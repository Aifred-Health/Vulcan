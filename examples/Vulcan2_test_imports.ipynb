{
 "cells": [
  {
   "cell_type": "code",
   "execution_count": 1,
   "metadata": {},
   "outputs": [],
   "source": [
    "from vulcanai2 import models, datasets"
   ]
  },
  {
   "cell_type": "code",
   "execution_count": 2,
   "metadata": {},
   "outputs": [],
   "source": [
    "import torch\n",
    "import torch.nn as nn\n",
    "import torchvision.transforms as transforms\n",
    "from torch.utils.data import DataLoader"
   ]
  },
  {
   "cell_type": "code",
   "execution_count": 3,
   "metadata": {},
   "outputs": [],
   "source": [
    "normalize = transforms.Normalize(mean=[x/255.0 for x in [125.3, 123.0, 113.9]],\n",
    "                                     std=[x/255.0 for x in [63.0, 62.1, 66.7]])\n",
    "\n",
    "transform = transforms.Compose([transforms.ToTensor(),\n",
    "                                transforms.Normalize((0.1307,), (0.3081,))])\n",
    "\n",
    "train_dataset = datasets.FashionData(root='data', \n",
    "                            train=True, \n",
    "                            transform=transform,\n",
    "                            download=True\n",
    "                           )\n",
    "\n",
    "val_dataset = datasets.FashionData(root='data', \n",
    "                            train=False, \n",
    "                            transform=transform,\n",
    "                           )"
   ]
  },
  {
   "cell_type": "code",
   "execution_count": 4,
   "metadata": {},
   "outputs": [],
   "source": [
    "batch_size = 100\n",
    "n_iters = 5500\n",
    "\n",
    "train_loader = DataLoader(dataset=train_dataset, \n",
    "                                           batch_size=batch_size,            \n",
    "                                           shuffle=True)\n",
    "\n",
    "val_loader = DataLoader(dataset=val_dataset, \n",
    "                                          batch_size=batch_size, \n",
    "                                          shuffle=False)"
   ]
  },
  {
   "cell_type": "code",
   "execution_count": 5,
   "metadata": {},
   "outputs": [],
   "source": [
    "network_conv_config = {\n",
    "    'mode': 'dense',\n",
    "    'units': ([ [1, 16, (5, 5), 2, 0],\n",
    "                [16, 32, (5, 5), 1, 0],\n",
    "                [32, 64, (5, 5), 1, 0] ],\n",
    "              [ 100 ]),\n",
    "    'dropouts': [0.2],\n",
    "}\n",
    "\n",
    "model = models.CNN(\n",
    "    name='conv_net_test',\n",
    "    dimensions=(1, 28, 28),\n",
    "    config=network_conv_config,\n",
    "    num_classes=10\n",
    ")\n",
    "\n"
   ]
  },
  {
   "cell_type": "code",
   "execution_count": 6,
   "metadata": {},
   "outputs": [
    {
     "data": {
      "text/plain": [
       "Sequential(\n",
       "  (0): ConvUnit(\n",
       "    (kernel): Conv2d(1, 16, kernel_size=(5, 5), stride=(2, 2))\n",
       "    (activation): Softmax()\n",
       "  )\n",
       "  (1): ConvUnit(\n",
       "    (kernel): Conv2d(16, 32, kernel_size=(5, 5), stride=(1, 1))\n",
       "    (activation): Softmax()\n",
       "  )\n",
       "  (2): ConvUnit(\n",
       "    (kernel): Conv2d(32, 64, kernel_size=(5, 5), stride=(1, 1))\n",
       "    (activation): Softmax()\n",
       "  )\n",
       ")"
      ]
     },
     "execution_count": 6,
     "metadata": {},
     "output_type": "execute_result"
    }
   ],
   "source": [
    "model.conv_network"
   ]
  },
  {
   "cell_type": "code",
   "execution_count": 7,
   "metadata": {},
   "outputs": [
    {
     "data": {
      "text/plain": [
       "Sequential(\n",
       "  (0): DenseUnit(\n",
       "    (kernel): Linear(in_features=1024, out_features=100, bias=True)\n",
       "  )\n",
       ")"
      ]
     },
     "execution_count": 7,
     "metadata": {},
     "output_type": "execute_result"
    }
   ],
   "source": [
    "model.dense_network"
   ]
  },
  {
   "cell_type": "code",
   "execution_count": 8,
   "metadata": {},
   "outputs": [
    {
     "data": {
      "text/plain": [
       "CNN(\n",
       "  (_activation): Softmax()\n",
       "  (_pred_activation): Softmax()\n",
       "  (_network): Sequential()\n",
       "  (conv_network): Sequential(\n",
       "    (0): ConvUnit(\n",
       "      (kernel): Conv2d(1, 16, kernel_size=(5, 5), stride=(2, 2))\n",
       "      (activation): Softmax()\n",
       "    )\n",
       "    (1): ConvUnit(\n",
       "      (kernel): Conv2d(16, 32, kernel_size=(5, 5), stride=(1, 1))\n",
       "      (activation): Softmax()\n",
       "    )\n",
       "    (2): ConvUnit(\n",
       "      (kernel): Conv2d(32, 64, kernel_size=(5, 5), stride=(1, 1))\n",
       "      (activation): Softmax()\n",
       "    )\n",
       "  )\n",
       "  (dense_network): Sequential(\n",
       "    (0): DenseUnit(\n",
       "      (kernel): Linear(in_features=1024, out_features=100, bias=True)\n",
       "    )\n",
       "  )\n",
       "  (network_tails): ModuleList(\n",
       "    (0): Linear(in_features=100, out_features=10, bias=True)\n",
       "  )\n",
       ")"
      ]
     },
     "execution_count": 8,
     "metadata": {},
     "output_type": "execute_result"
    }
   ],
   "source": [
    "model"
   ]
  },
  {
   "cell_type": "code",
   "execution_count": 9,
   "metadata": {},
   "outputs": [
    {
     "name": "stdout",
     "output_type": "stream",
     "text": [
      "--> Epoch: 0/9\n"
     ]
    },
    {
     "name": "stderr",
     "output_type": "stream",
     "text": [
      "100%|████████████████████████████████████████████████████████████████████████████████| 600/600 [00:09<00:00, 60.71it/s]\n"
     ]
    },
    {
     "name": "stdout",
     "output_type": "stream",
     "text": [
      "\tTrain set: Loss: 0.643285\n",
      "\n",
      "\tTest set: Average loss: 0.0066, Accuracy: 7444/10000 (74%)\n",
      "\n",
      "--> Epoch: 1/9\n"
     ]
    },
    {
     "name": "stderr",
     "output_type": "stream",
     "text": [
      "100%|████████████████████████████████████████████████████████████████████████████████| 600/600 [00:08<00:00, 67.46it/s]\n"
     ]
    },
    {
     "name": "stdout",
     "output_type": "stream",
     "text": [
      "\tTrain set: Loss: 0.412081\n",
      "\n",
      "\tTest set: Average loss: 0.0053, Accuracy: 8076/10000 (80%)\n",
      "\n",
      "--> Epoch: 2/9\n"
     ]
    },
    {
     "name": "stderr",
     "output_type": "stream",
     "text": [
      "100%|████████████████████████████████████████████████████████████████████████████████| 600/600 [00:08<00:00, 68.70it/s]\n"
     ]
    },
    {
     "name": "stdout",
     "output_type": "stream",
     "text": [
      "\tTrain set: Loss: 0.241662\n",
      "\n",
      "\tTest set: Average loss: 0.0048, Accuracy: 8264/10000 (82%)\n",
      "\n",
      "--> Epoch: 3/9\n"
     ]
    },
    {
     "name": "stderr",
     "output_type": "stream",
     "text": [
      "100%|████████████████████████████████████████████████████████████████████████████████| 600/600 [00:08<00:00, 68.17it/s]\n"
     ]
    },
    {
     "name": "stdout",
     "output_type": "stream",
     "text": [
      "\tTrain set: Loss: 0.341341\n",
      "\n",
      "\tTest set: Average loss: 0.0044, Accuracy: 8413/10000 (84%)\n",
      "\n",
      "--> Epoch: 4/9\n"
     ]
    },
    {
     "name": "stderr",
     "output_type": "stream",
     "text": [
      "100%|████████████████████████████████████████████████████████████████████████████████| 600/600 [00:08<00:00, 66.89it/s]\n"
     ]
    },
    {
     "name": "stdout",
     "output_type": "stream",
     "text": [
      "\tTrain set: Loss: 0.359487\n",
      "\n",
      "\tTest set: Average loss: 0.0042, Accuracy: 8491/10000 (84%)\n",
      "\n",
      "--> Epoch: 5/9\n"
     ]
    },
    {
     "name": "stderr",
     "output_type": "stream",
     "text": [
      "100%|████████████████████████████████████████████████████████████████████████████████| 600/600 [00:09<00:00, 66.57it/s]\n"
     ]
    },
    {
     "name": "stdout",
     "output_type": "stream",
     "text": [
      "\tTrain set: Loss: 0.304290\n",
      "\n",
      "\tTest set: Average loss: 0.0041, Accuracy: 8522/10000 (85%)\n",
      "\n",
      "--> Epoch: 6/9\n"
     ]
    },
    {
     "name": "stderr",
     "output_type": "stream",
     "text": [
      "100%|████████████████████████████████████████████████████████████████████████████████| 600/600 [00:08<00:00, 67.13it/s]\n"
     ]
    },
    {
     "name": "stdout",
     "output_type": "stream",
     "text": [
      "\tTrain set: Loss: 0.380500\n",
      "\n",
      "\tTest set: Average loss: 0.0039, Accuracy: 8563/10000 (85%)\n",
      "\n",
      "--> Epoch: 7/9\n"
     ]
    },
    {
     "name": "stderr",
     "output_type": "stream",
     "text": [
      "100%|████████████████████████████████████████████████████████████████████████████████| 600/600 [00:09<00:00, 64.53it/s]\n"
     ]
    },
    {
     "name": "stdout",
     "output_type": "stream",
     "text": [
      "\tTrain set: Loss: 0.418212\n",
      "\n",
      "\tTest set: Average loss: 0.0037, Accuracy: 8655/10000 (86%)\n",
      "\n",
      "--> Epoch: 8/9\n"
     ]
    },
    {
     "name": "stderr",
     "output_type": "stream",
     "text": [
      "100%|████████████████████████████████████████████████████████████████████████████████| 600/600 [00:08<00:00, 68.33it/s]\n"
     ]
    },
    {
     "name": "stdout",
     "output_type": "stream",
     "text": [
      "\tTrain set: Loss: 0.306786\n",
      "\n",
      "\tTest set: Average loss: 0.0036, Accuracy: 8669/10000 (86%)\n",
      "\n",
      "--> Epoch: 9/9\n"
     ]
    },
    {
     "name": "stderr",
     "output_type": "stream",
     "text": [
      "100%|████████████████████████████████████████████████████████████████████████████████| 600/600 [00:08<00:00, 69.81it/s]\n"
     ]
    },
    {
     "name": "stdout",
     "output_type": "stream",
     "text": [
      "\tTrain set: Loss: 0.381822\n",
      "\n",
      "\tTest set: Average loss: 0.0037, Accuracy: 8657/10000 (86%)\n",
      "\n",
      "2018-08-14 03:14:54\n"
     ]
    }
   ],
   "source": [
    "model.fit(train_loader, val_loader, 10)"
   ]
  },
  {
   "cell_type": "code",
   "execution_count": 13,
   "metadata": {
    "scrolled": false
   },
   "outputs": [
    {
     "data": {
      "text/plain": [
       "CNN(\n",
       "  (_activation): Softmax()\n",
       "  (_pred_activation): Softmax()\n",
       "  (_network): Sequential()\n",
       "  (conv_network): Sequential(\n",
       "    (0): ConvUnit(\n",
       "      (kernel): Conv2d(1, 16, kernel_size=(5, 5), stride=(2, 2))\n",
       "      (activation): Softmax()\n",
       "    )\n",
       "    (1): ConvUnit(\n",
       "      (kernel): Conv2d(16, 32, kernel_size=(5, 5), stride=(1, 1))\n",
       "      (activation): Softmax()\n",
       "    )\n",
       "    (2): ConvUnit(\n",
       "      (kernel): Conv2d(32, 64, kernel_size=(5, 5), stride=(1, 1))\n",
       "      (activation): Softmax()\n",
       "    )\n",
       "  )\n",
       "  (dense_network): Sequential(\n",
       "    (0): DenseUnit(\n",
       "      (kernel): Linear(in_features=1024, out_features=100, bias=True)\n",
       "    )\n",
       "  )\n",
       "  (network_tails): ModuleList(\n",
       "    (0): Linear(in_features=100, out_features=10, bias=True)\n",
       "  )\n",
       "  (criterion): CrossEntropyLoss()\n",
       ")"
      ]
     },
     "execution_count": 13,
     "metadata": {},
     "output_type": "execute_result"
    }
   ],
   "source": [
    "model"
   ]
  },
  {
   "cell_type": "code",
   "execution_count": 14,
   "metadata": {
    "scrolled": true
   },
   "outputs": [
    {
     "data": {
      "text/plain": [
       "'CNN(\\n  (_activation): Softmax()\\n  (_pred_activation): Softmax()\\n  (_network): Sequential()\\n  (conv_network): Sequential(\\n    (0): ConvUnit(\\n      (kernel): Conv2d(1, 16, kernel_size=(5, 5), stride=(2, 2))\\n      (activation): Softmax()\\n    )\\n    (1): ConvUnit(\\n      (kernel): Conv2d(16, 32, kernel_size=(5, 5), stride=(1, 1))\\n      (activation): Softmax()\\n    )\\n    (2): ConvUnit(\\n      (kernel): Conv2d(32, 64, kernel_size=(5, 5), stride=(1, 1))\\n      (activation): Softmax()\\n    )\\n  )\\n  (dense_network): Sequential(\\n    (0): DenseUnit(\\n      (kernel): Linear(in_features=1024, out_features=100, bias=True)\\n    )\\n  )\\n  (network_tails): ModuleList(\\n    (0): Linear(in_features=100, out_features=10, bias=True)\\n  )\\n  (criterion): CrossEntropyLoss()\\n)\\noptim: Adam (\\nParameter Group 0\\n    amsgrad: False\\n    betas: (0.9, 0.999)\\n    eps: 1e-08\\n    lr: 0.001\\n    weight_decay: 0\\n)'"
      ]
     },
     "execution_count": 14,
     "metadata": {},
     "output_type": "execute_result"
    }
   ],
   "source": [
    "str(model)"
   ]
  },
  {
   "cell_type": "code",
   "execution_count": null,
   "metadata": {
    "scrolled": true
   },
   "outputs": [],
   "source": []
  },
  {
   "cell_type": "code",
   "execution_count": null,
   "metadata": {},
   "outputs": [],
   "source": []
  }
 ],
 "metadata": {
  "kernelspec": {
   "display_name": "Python 3",
   "language": "python",
   "name": "python3"
  },
  "language_info": {
   "codemirror_mode": {
    "name": "ipython",
    "version": 3
   },
   "file_extension": ".py",
   "mimetype": "text/x-python",
   "name": "python",
   "nbconvert_exporter": "python",
   "pygments_lexer": "ipython3",
   "version": "3.6.3"
  }
 },
 "nbformat": 4,
 "nbformat_minor": 2
}
